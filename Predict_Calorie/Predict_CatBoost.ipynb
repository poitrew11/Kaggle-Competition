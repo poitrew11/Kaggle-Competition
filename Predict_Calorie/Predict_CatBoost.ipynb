{
  "cells": [
    {
      "cell_type": "markdown",
      "metadata": {
        "id": "view-in-github",
        "colab_type": "text"
      },
      "source": [
        "<a href=\"https://colab.research.google.com/github/poitrew11/Kaggle-Competition/blob/main/Predict_Calorie/Predict_CatBoost.ipynb\" target=\"_parent\"><img src=\"https://colab.research.google.com/assets/colab-badge.svg\" alt=\"Open In Colab\"/></a>"
      ]
    },
    {
      "cell_type": "code",
      "execution_count": null,
      "metadata": {
        "id": "cYkx_16HdttX"
      },
      "outputs": [],
      "source": [
        "from google.colab import files\n",
        "files.upload()"
      ]
    },
    {
      "cell_type": "code",
      "execution_count": 2,
      "metadata": {
        "colab": {
          "base_uri": "https://localhost:8080/"
        },
        "id": "K_SW2GxfesH6",
        "outputId": "298cbe32-3cc3-4415-90c7-9e27ae29a86d"
      },
      "outputs": [
        {
          "output_type": "stream",
          "name": "stdout",
          "text": [
            "Archive:  playground-series-s5e5.zip\n",
            "  inflating: sample_submission.csv   \n",
            "  inflating: test.csv                \n",
            "  inflating: train.csv               \n"
          ]
        }
      ],
      "source": [
        "!unzip playground-series-s5e5.zip"
      ]
    },
    {
      "cell_type": "code",
      "execution_count": 3,
      "metadata": {
        "colab": {
          "base_uri": "https://localhost:8080/"
        },
        "id": "evhSQdT_ev7Z",
        "outputId": "1e6bfe4d-f44f-48b0-ac7f-23a2ef831b85"
      },
      "outputs": [
        {
          "output_type": "stream",
          "name": "stdout",
          "text": [
            "   id     Sex  Age  Height  Weight  Duration  Heart_Rate  Body_Temp  Calories\n",
            "0   0    male   36   189.0    82.0      26.0       101.0       41.0     150.0\n",
            "1   1  female   64   163.0    60.0       8.0        85.0       39.7      34.0\n",
            "2   2  female   51   161.0    64.0       7.0        84.0       39.8      29.0\n",
            "3   3    male   20   192.0    90.0      25.0       105.0       40.7     140.0\n",
            "4   4  female   38   166.0    61.0      25.0       102.0       40.6     146.0\n",
            "(750000, 9)\n"
          ]
        }
      ],
      "source": [
        "import pandas as pd\n",
        "import numpy as np\n",
        "from sklearn.model_selection import train_test_split\n",
        "\n",
        "data = pd.read_csv('train.csv')\n",
        "print(data.head(5))\n",
        "print(data.shape)"
      ]
    },
    {
      "cell_type": "code",
      "source": [
        "import itertools\n",
        "import xgboost as xgb\n",
        "from sklearn import metrics\n",
        "from sklearn.model_selection import KFold\n",
        "from sklearn.preprocessing import LabelEncoder\n",
        "\n",
        "def feature_engeneering(df):\n",
        "  if 'id' in df.columns:\n",
        "    df.drop(columns = ['id'], inplace = True)\n",
        "  if 'Sex' in df.columns:\n",
        "    df['Sex'] = df['Sex'].map({'female': 1, 'male': 2})\n",
        "  df['AgeSex'] = df['Age'].astype(str) + df['Sex'].astype(str)\n",
        "  df['AgeSex'] = LabelEncoder().fit_transform(df['AgeSex']) + 1\n",
        "  df['BMI'] = df['Weight'] / (df['Height'] ** 2)\n",
        "  df['Heart_Rate_per_Age'] = df['Heart_Rate'] / df['Age']\n",
        "  df['Temp_Heart_Interaction'] = df['Body_Temp'] * df['Heart_Rate']\n",
        "  group_stats = df.groupby('Sex')['Heart_Rate'].agg(['mean', 'std']).rename(columns={'mean': 'Mean_HR_by_Sex', 'std': 'Std_HR_by_Sex'})\n",
        "  df = df.merge(group_stats, on='Sex', how='left')\n",
        "  df['HR_above_group_mean'] = df['Heart_Rate'] - df['Mean_HR_by_Sex']\n",
        "  df['Log_Weight'] = np.log1p(df['Weight'])\n",
        "  df['Sqrt_Height'] = np.sqrt(df['Height'])\n",
        "  df['Age_squared'] = df['Age'] ** 2\n",
        "  df['Weight_cubed'] = df['Weight'] ** 3\n",
        "\n",
        "  features = ['Age', 'Weight', 'Height', 'Body_Temp', 'Heart_Rate', 'Duration', 'Sex', 'AgeSex']\n",
        "  for comb in itertools.combinations(features, 2):\n",
        "      df[\" * \".join(comb)] = df[list(comb)].prod(axis=1)\n",
        "\n",
        "  return df"
      ],
      "metadata": {
        "id": "NBa4fFpL_2Sz"
      },
      "execution_count": 4,
      "outputs": []
    },
    {
      "cell_type": "code",
      "source": [
        "data_test = pd.read_csv('test.csv')\n",
        "print(data_test.shape)"
      ],
      "metadata": {
        "colab": {
          "base_uri": "https://localhost:8080/"
        },
        "id": "8OLu5OIvI-mu",
        "outputId": "8114f6f1-4312-4ac0-bc0e-a7c84c8f4a79"
      },
      "execution_count": 5,
      "outputs": [
        {
          "output_type": "stream",
          "name": "stdout",
          "text": [
            "(250000, 8)\n"
          ]
        }
      ]
    },
    {
      "cell_type": "code",
      "source": [
        "df_train = feature_engeneering(data)\n",
        "df_test = feature_engeneering(data_test)\n",
        "print(f\"Train: {df_train.shape}\")\n",
        "print(df_test.shape)"
      ],
      "metadata": {
        "colab": {
          "base_uri": "https://localhost:8080/"
        },
        "id": "RQTimtKMDNPd",
        "outputId": "c5229b65-229e-4e8b-c80e-6d74c5af665c"
      },
      "execution_count": 6,
      "outputs": [
        {
          "output_type": "stream",
          "name": "stdout",
          "text": [
            "Train: (750000, 47)\n",
            "(250000, 46)\n"
          ]
        }
      ]
    },
    {
      "cell_type": "code",
      "source": [
        "print(f\"Train: {df_train.shape}\")\n",
        "print(df_test.shape)"
      ],
      "metadata": {
        "colab": {
          "base_uri": "https://localhost:8080/"
        },
        "id": "GNMha94ppu_i",
        "outputId": "b0f4ac5c-c273-4341-a66f-952d3beda569"
      },
      "execution_count": 7,
      "outputs": [
        {
          "output_type": "stream",
          "name": "stdout",
          "text": [
            "Train: (750000, 47)\n",
            "(250000, 46)\n"
          ]
        }
      ]
    },
    {
      "cell_type": "code",
      "source": [
        "print(df_test.shape)"
      ],
      "metadata": {
        "colab": {
          "base_uri": "https://localhost:8080/"
        },
        "id": "G1MbEwOkJIs5",
        "outputId": "11508449-1d0b-423c-90e9-aaf5053111a0"
      },
      "execution_count": 8,
      "outputs": [
        {
          "output_type": "stream",
          "name": "stdout",
          "text": [
            "(250000, 46)\n"
          ]
        }
      ]
    },
    {
      "cell_type": "code",
      "source": [
        "from catboost import CatBoostRegressor, Pool\n",
        "import numpy as np\n",
        "def split_dataset(x, test_size = 0.25):\n",
        "  test_indeces = np.random.rand(len(x)) < test_size\n",
        "  return x[~test_indeces], x[test_indeces]\n",
        "train_ds_pd, valid_ds_pd = split_dataset(df_train, test_size = 0.25)\n",
        "train_ds_x = train_ds_pd.drop(['Calories'], axis = 1)\n",
        "train_ds_y = train_ds_pd['Calories']\n",
        "valid_ds_x = valid_ds_pd.drop(['Calories'], axis = 1)\n",
        "valid_ds_y = valid_ds_pd['Calories']\n",
        "y_train_log = np.log1p(train_ds_y)\n",
        "y_test_log = np.log1p(valid_ds_y)\n",
        "train_pool = Pool(train_ds_x, y_train_log)\n",
        "test_pool = Pool(valid_ds_x, y_test_log)\n",
        "model = CatBoostRegressor(\n",
        "    iterations = 20000,\n",
        "    learning_rate = 0.002,\n",
        "    depth = 11,\n",
        "    loss_function = 'RMSE',\n",
        "    eval_metric = 'RMSE',\n",
        "    verbose = 100,\n",
        "    early_stopping_rounds = 50,\n",
        "    task_type='GPU',\n",
        "    devices='0:1'\n",
        ")\n",
        "\n",
        "model.fit(train_pool, eval_set = test_pool)"
      ],
      "metadata": {
        "id": "4eEQ07ZjkTZS"
      },
      "execution_count": null,
      "outputs": []
    },
    {
      "cell_type": "code",
      "source": [
        "y_pred_log = model.predict(df_test)\n",
        "predictions = np.expm1(y_pred_log)\n",
        "results = pd.DataFrame({\n",
        "    'id': range(750000, 750000 + len(predictions)),\n",
        "    'Calories': predictions.flatten()\n",
        "})\n",
        "\n",
        "results.to_csv('predictions_8.csv', index = False)"
      ],
      "metadata": {
        "id": "HRY1UvPUnXpj"
      },
      "execution_count": 28,
      "outputs": []
    }
  ],
  "metadata": {
    "colab": {
      "provenance": [],
      "gpuType": "T4",
      "authorship_tag": "ABX9TyMW7TPArfxe92rxsFunhNam",
      "include_colab_link": true
    },
    "kernelspec": {
      "display_name": "Python 3",
      "name": "python3"
    },
    "language_info": {
      "name": "python"
    },
    "accelerator": "GPU"
  },
  "nbformat": 4,
  "nbformat_minor": 0
}